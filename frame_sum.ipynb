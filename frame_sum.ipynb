{
 "cells": [
  {
   "cell_type": "code",
   "execution_count": 4,
   "metadata": {},
   "outputs": [],
   "source": [
    "import os\n",
    "import pickle\n",
    "import numpy as np\n",
    "from utils import *\n",
    "from multi_threading import read_all_images, parallel_frame_sum\n",
    "\n",
    "debugging = False"
   ]
  },
  {
   "cell_type": "code",
   "execution_count": 2,
   "metadata": {},
   "outputs": [],
   "source": [
    "@timer_decorator\n",
    "def get_frame_sum(tiff_path, **kwargs):\n",
    "    # debugging = kwargs.get('debugging', False)\n",
    "    pickle_usage = kwargs.get('pickle_usage', True)\n",
    "\n",
    "    image_arrays = read_all_images(tiff_path, **kwargs)\n",
    "    if debugging==True and pickle_usage==False:\n",
    "        print('NOT USING PICKLE')\n",
    "    if debugging==True:\n",
    "        print(f'{np.size(image_arrays)} is the size of image_arrays')\n",
    "\n",
    "    if os.path.exists(f'{tiff_path}\\\\frame_sum_array.pkl') and pickle_usage==True:\n",
    "        with open(f'{tiff_path}\\\\frame_sum_array.pkl', 'rb') as f:\n",
    "            frame_sum_array = pickle.load(f)\n",
    "        print('Loaded frame_sum_array.pkl')\n",
    "\n",
    "    else:\n",
    "        # frame_sum_array_csr = parallel_frame_sum(image_arrays)\n",
    "        frame_sum_array = parallel_frame_sum(image_arrays)\n",
    "        # frame_sum_array = frame_sum_array_csr.toarray()\n",
    "\n",
    "        if pickle_usage==True:\n",
    "            with open(f'{tiff_path}\\\\frame_sum_array.pkl', 'wb') as f:\n",
    "                pickle.dump(frame_sum_array, f)\n",
    "\n",
    "    return frame_sum_array"
   ]
  },
  {
   "cell_type": "code",
   "execution_count": 3,
   "metadata": {},
   "outputs": [
    {
     "ename": "TypeError",
     "evalue": "utils.timer_decorator.<locals>.wrapper() got multiple values for keyword argument 'debugging'",
     "output_type": "error",
     "traceback": [
      "\u001b[1;31m---------------------------------------------------------------------------\u001b[0m",
      "\u001b[1;31mTypeError\u001b[0m                                 Traceback (most recent call last)",
      "Cell \u001b[1;32mIn[3], line 3\u001b[0m\n\u001b[0;32m      1\u001b[0m tiff_main_folder \u001b[38;5;241m=\u001b[39m \u001b[38;5;124m'\u001b[39m\u001b[38;5;124mC:\u001b[39m\u001b[38;5;130;01m\\\\\u001b[39;00m\u001b[38;5;124mLABDATA_office\u001b[39m\u001b[38;5;130;01m\\\\\u001b[39;00m\u001b[38;5;124m4.1\u001b[39m\u001b[38;5;124m'\u001b[39m\n\u001b[0;32m      2\u001b[0m tiff_path \u001b[38;5;241m=\u001b[39m tiff_main_folder \u001b[38;5;241m+\u001b[39m \u001b[38;5;124m'\u001b[39m\u001b[38;5;130;01m\\\\\u001b[39;00m\u001b[38;5;124mbackground\u001b[39m\u001b[38;5;124m'\u001b[39m\n\u001b[1;32m----> 3\u001b[0m background_frame_SUM_array \u001b[38;5;241m=\u001b[39m \u001b[43mget_frame_sum\u001b[49m\u001b[43m(\u001b[49m\u001b[43mtiff_path\u001b[49m\u001b[43m,\u001b[49m\u001b[43m \u001b[49m\u001b[43mdebugging\u001b[49m\u001b[38;5;241;43m=\u001b[39;49m\u001b[38;5;28;43;01mFalse\u001b[39;49;00m\u001b[43m)\u001b[49m\n",
      "File \u001b[1;32mc:\\Users\\Soyo\\OneDrive\\LABDATA\\3.12 qCMOS\\utils.py:17\u001b[0m, in \u001b[0;36mtimer_decorator.<locals>.wrapper\u001b[1;34m(*args, **kwargs)\u001b[0m\n\u001b[0;32m     14\u001b[0m debugging \u001b[38;5;241m=\u001b[39m kwargs\u001b[38;5;241m.\u001b[39mget(\u001b[38;5;124m'\u001b[39m\u001b[38;5;124mdebugging\u001b[39m\u001b[38;5;124m'\u001b[39m, \u001b[38;5;28;01mTrue\u001b[39;00m)\n\u001b[0;32m     16\u001b[0m start_time \u001b[38;5;241m=\u001b[39m time\u001b[38;5;241m.\u001b[39mtime()\n\u001b[1;32m---> 17\u001b[0m result \u001b[38;5;241m=\u001b[39m func(\u001b[38;5;241m*\u001b[39margs, \u001b[38;5;241m*\u001b[39m\u001b[38;5;241m*\u001b[39mkwargs)\n\u001b[0;32m     18\u001b[0m end_time \u001b[38;5;241m=\u001b[39m time\u001b[38;5;241m.\u001b[39mtime()\n\u001b[0;32m     19\u001b[0m \u001b[38;5;28;01mif\u001b[39;00m debugging\u001b[38;5;241m==\u001b[39m\u001b[38;5;28;01mTrue\u001b[39;00m:\n",
      "Cell \u001b[1;32mIn[2], line 6\u001b[0m, in \u001b[0;36mget_frame_sum\u001b[1;34m(tiff_path, **kwargs)\u001b[0m\n\u001b[0;32m      3\u001b[0m debugging \u001b[38;5;241m=\u001b[39m kwargs\u001b[38;5;241m.\u001b[39mget(\u001b[38;5;124m'\u001b[39m\u001b[38;5;124mdebugging\u001b[39m\u001b[38;5;124m'\u001b[39m, \u001b[38;5;28;01mFalse\u001b[39;00m)\n\u001b[0;32m      4\u001b[0m pickle_usage \u001b[38;5;241m=\u001b[39m kwargs\u001b[38;5;241m.\u001b[39mget(\u001b[38;5;124m'\u001b[39m\u001b[38;5;124mpickle_usage\u001b[39m\u001b[38;5;124m'\u001b[39m, \u001b[38;5;28;01mTrue\u001b[39;00m)\n\u001b[1;32m----> 6\u001b[0m image_arrays \u001b[38;5;241m=\u001b[39m read_all_images(tiff_path, debugging\u001b[38;5;241m=\u001b[39mdebugging, \u001b[38;5;241m*\u001b[39m\u001b[38;5;241m*\u001b[39mkwargs)\n\u001b[0;32m      7\u001b[0m \u001b[38;5;28;01mif\u001b[39;00m debugging\u001b[38;5;241m==\u001b[39m\u001b[38;5;28;01mTrue\u001b[39;00m \u001b[38;5;129;01mand\u001b[39;00m pickle_usage\u001b[38;5;241m==\u001b[39m\u001b[38;5;28;01mFalse\u001b[39;00m:\n\u001b[0;32m      8\u001b[0m     \u001b[38;5;28mprint\u001b[39m(\u001b[38;5;124m'\u001b[39m\u001b[38;5;124mNOT USING PICKLE\u001b[39m\u001b[38;5;124m'\u001b[39m)\n",
      "\u001b[1;31mTypeError\u001b[0m: utils.timer_decorator.<locals>.wrapper() got multiple values for keyword argument 'debugging'"
     ]
    }
   ],
   "source": [
    "tiff_main_folder = 'C:\\\\LABDATA_office\\\\4.1'\n",
    "tiff_path = tiff_main_folder + '\\\\background'\n",
    "debugging = False\n",
    "background_frame_SUM_array = get_frame_sum(tiff_path)\n",
    "# average_background = np.average(background_frame_SUM_array)\n",
    "\n",
    "# tiff_path = tiff_main_folder + '\\\\data'\n",
    "# frame_SUM_array = get_frame_sum(tiff_path, debugging=False)\n",
    "\n",
    "# pure_frame_SUM_array = frame_SUM_array - average_background\n",
    "\n",
    "# frame_SUM_std = np.std(pure_frame_SUM_array)\n",
    "# fram_SUM_std_percent = frame_SUM_std/np.average(pure_frame_SUM_array)\n",
    "\n",
    "# tags = get_tags_from_first_tiff(tiff_path)\n",
    "# print(tags)\n",
    "# plt.plot(pure_frame_SUM_array)\n",
    "# plt.show()"
   ]
  }
 ],
 "metadata": {
  "kernelspec": {
   "display_name": "sci",
   "language": "python",
   "name": "python3"
  },
  "language_info": {
   "codemirror_mode": {
    "name": "ipython",
    "version": 3
   },
   "file_extension": ".py",
   "mimetype": "text/x-python",
   "name": "python",
   "nbconvert_exporter": "python",
   "pygments_lexer": "ipython3",
   "version": "3.10.13"
  }
 },
 "nbformat": 4,
 "nbformat_minor": 2
}
