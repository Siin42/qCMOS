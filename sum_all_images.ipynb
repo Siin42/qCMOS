{
 "cells": [
  {
   "cell_type": "code",
   "execution_count": 1,
   "id": "884dc91b",
   "metadata": {},
   "outputs": [],
   "source": [
    "import os\n",
    "import numpy as np\n",
    "import matplotlib.pyplot as plt\n",
    "import time\n",
    "import pickle\n",
    "\n",
    "from utils import get_def_name, get_tags_from_first_tiff, get_tiff_list\n",
    "from multi_threading import Threading_read_images, parallel_sum"
   ]
  },
  {
   "cell_type": "code",
   "execution_count": 2,
   "id": "561f7ef4",
   "metadata": {},
   "outputs": [],
   "source": [
    "def read_all_images(tiff_path, **kwargs):\n",
    "    debugging = kwargs.get('debugging', True)\n",
    "    pickle_usage = kwargs.get('pickle_usage', True)\n",
    "    tiff_amount_cutoff = kwargs.get('tiff_amount_cutoff', None)\n",
    "\n",
    "    image_arrays = []\n",
    "    start_time = time.time()\n",
    "    if debugging==True and pickle_usage==False:\n",
    "        print('NOT USING PICKLE')\n",
    "    \n",
    "    if os.path.exists(f'{tiff_path}\\\\image_arrays.pkl') and pickle_usage==True:\n",
    "        with open(f'{tiff_path}\\\\image_arrays.pkl', 'rb') as f:\n",
    "            image_arrays = pickle.load(f)\n",
    "        print(f'{tiff_path}\\nLoaded image_arrays.pkl')\n",
    "    else:\n",
    "        # image_arrays = Threading_read_images(tiff_path)\n",
    "        image_arrays = Threading_read_images(tiff_path, tiff_amount_cutoff)\n",
    "\n",
    "        if pickle_usage==True:\n",
    "            with open(f'{tiff_path}\\\\image_arrays.pkl', 'wb') as f:\n",
    "                pickle.dump(image_arrays, f)\n",
    "\n",
    "    end_time = time.time()\n",
    "    if debugging==True:\n",
    "        print(f'File reading time: {end_time - start_time:.1f} seconds. With {get_def_name()}')\n",
    "\n",
    "    \n",
    "    return image_arrays"
   ]
  },
  {
   "cell_type": "markdown",
   "id": "f9071b3e",
   "metadata": {},
   "source": [
    "##### Testing block for cProfile"
   ]
  },
  {
   "cell_type": "code",
   "execution_count": 3,
   "id": "98bac30b",
   "metadata": {
    "lines_to_next_cell": 1
   },
   "outputs": [],
   "source": [
    "import cProfile\n",
    "\n",
    "def profile_read_image(file_path):\n",
    "    profiler = cProfile.Profile()\n",
    "    profiler.enable()\n",
    "\n",
    "    # 调用你想要分析的函数\n",
    "    # result = read_image(file_path)\n",
    "    result = to_call_with_cProfile(file_path=file_path)\n",
    "\n",
    "    profiler.disable()\n",
    "    profiler.print_stats(sort='time')\n",
    "\n",
    "    return result\n",
    "\n",
    "def to_call_with_cProfile(**args):\n",
    "    file_path = args['file_path']\n",
    "    \n",
    "    result = read_image(file_path)\n",
    "\n",
    "    return result\n",
    "\n",
    "# 使用你的文件路径调用函数\n",
    "# example_tiff =  'C:\\\\3.12 qCMOS\\\\full frame\\\\Background001.tif'\n",
    "# profile_read_image(example_tiff)"
   ]
  },
  {
   "cell_type": "markdown",
   "id": "5312e8f9",
   "metadata": {},
   "source": [
    "##### Keep going"
   ]
  },
  {
   "cell_type": "code",
   "execution_count": 4,
   "id": "d9a26f1b",
   "metadata": {
    "lines_to_next_cell": 1
   },
   "outputs": [],
   "source": [
    "def get_sum_array_dense(tiff_path, **kwargs):\n",
    "    debugging = kwargs.get('debugging', False)\n",
    "    pickle_usage = kwargs.get('pickle_usage', True)\n",
    "\n",
    "    image_arrays = read_all_images(tiff_path, **kwargs)\n",
    "    start_time = time.time()\n",
    "    if debugging==True and pickle_usage==False:\n",
    "        print('NOT USING PICKLE')\n",
    "    \n",
    "    if os.path.exists(f'{tiff_path}\\\\sum_image_arrays.pkl') and pickle_usage==True:\n",
    "        with open(f'{tiff_path}\\\\sum_image_arrays.pkl', 'rb') as f:\n",
    "            sum_array = pickle.load(f)\n",
    "        print('Loaded sum_image_arrays.pkl')\n",
    "\n",
    "    else:\n",
    "        # sum_array = np.zeros_like(image_arrays[0], dtype=np.float64)\n",
    "        # for img in image_arrays:\n",
    "        #     sum_array += img\n",
    "        sum_array_csr = parallel_sum(image_arrays)\n",
    "\n",
    "        sum_array = sum_array_csr.toarray()\n",
    "        if pickle_usage==True:\n",
    "            with open(f'{tiff_path}\\\\sum_image_arrays.pkl', 'wb') as f:\n",
    "                pickle.dump(sum_array, f)\n",
    "\n",
    "\n",
    "    end_time = time.time()\n",
    "    print(f'SUM calculation time: {end_time - start_time:.1f} seconds. With {get_def_name()}')\n",
    "\n",
    "    return sum_array\n",
    "\n",
    "def plot_SUM(sum_image_arrays, tiff_path, **kwargs):\n",
    "    plot_type = kwargs.get('plot_type', 'bar')\n",
    "    # debugging = kwargs.get('debug', True)\n",
    "    debugging = kwargs.get('debugging', True)\n",
    "    bin_amount = kwargs.get('bin_amount', 200)\n",
    "    heatmap_max = kwargs.get('heatmap_max')\n",
    "    save = kwargs.get('save', False)\n",
    "\n",
    "    start_time = time.time()\n",
    "    tiff_filenames = get_tiff_list(tiff_path)\n",
    "\n",
    "    # sum_image_arrays = sum_image_arrays.toarray()\n",
    "\n",
    "\n",
    "    caption_tags, image_width, image_length, exposure_time_ms = get_tags_from_first_tiff(tiff_path)[:4]\n",
    "    total_pixel_amount = image_width * image_length\n",
    "    caption_statistics_SUM = f'{np.sum(sum_image_arrays==0)} pixels had 0 count in the whole set of data, {np.sum(sum_image_arrays==0) / total_pixel_amount * 100:.1f}%; \\n' + \\\n",
    "            f'SUM(10% of the pixels) <= {np.percentile(sum_image_arrays, 10)}; \\n' + \\\n",
    "            f'SUM(90% of the pixels) <= {np.percentile(sum_image_arrays, 90)}'\n",
    "    figname_optional = ''\n",
    "\n",
    "\n",
    "    if plot_type == 'bar':\n",
    "        # It was cutting right tail of the histogram. Name a max for it\n",
    "        # counts, bin_edges = np.histogram(sum_image_arrays.flatten(), bins=bin_amount)\n",
    "        min_value = 0\n",
    "        max_value = np.max(sum_image_arrays)\n",
    "        counts, bin_edges = np.histogram(sum_image_arrays.flatten(), bins=bin_amount, range=(min_value, max_value))\n",
    "\n",
    "        if debugging==True:\n",
    "            # print(f'bin amount: {bin_amount}')\n",
    "            print(f'bins width: {np.average(np.diff(bin_edges))}')\n",
    "            max_fraction_bin = np.max(counts) / np.sum(counts)\n",
    "            print(f'{100*max_fraction_bin:.1f}% of pixel Sum counts fall between '\n",
    "                f'{np.argmax(counts)} and {np.argmax(counts) + np.diff(bin_edges)[0]} counts in all {len(tiff_filenames)} frames')\n",
    "\n",
    "        counts_normalized = counts / counts.max()\n",
    "\n",
    "        fig = plt.figure(figsize=(10, 6))\n",
    "        plt.bar(bin_edges[:-1], counts_normalized, width=np.diff(bin_edges), color='gray', log=True, align='edge')\n",
    "\n",
    "        plt.xlabel('Total Counts')\n",
    "        plt.ylabel('Frequency')\n",
    "\n",
    "        figname_optional += f'_{len(tiff_filenames)}frames'\n",
    "\n",
    "        fig.text(0.15, 0.05, caption_tags + caption_statistics_SUM, ha='left')\n",
    "        plt.subplots_adjust(bottom=0.25)\n",
    "\n",
    "    elif plot_type == 'heat':\n",
    "        heat_plot_width = np.round(image_width/image_length * 6, 1) + 2\n",
    "        fig = plt.figure(figsize=(heat_plot_width, 6), dpi=400)\n",
    "\n",
    "        plt.imshow(sum_image_arrays, cmap='hot', interpolation='nearest', vmax=heatmap_max)\n",
    "        # plt.imshow(sum_image_arrays, cmap='hot')\n",
    "        plt.colorbar(label='Counts (Sum)')\n",
    "        # check whether heatmap_max is None:\n",
    "        if heatmap_max is not None:\n",
    "        # if so add a caption to the caption_tags, declaring all values above heatmap_max are clipped\n",
    "            caption_tags += f'Clipped at {heatmap_max} counts\\n'\n",
    "            figname_optional += f'_clip{heatmap_max}'\n",
    "\n",
    "        figname_optional += f'_{len(tiff_filenames)}frames'\n",
    "        \n",
    "        fig.text(0.15, 0.05, caption_tags + caption_statistics_SUM, ha='left')\n",
    "        plt.subplots_adjust(bottom=0.25)\n",
    "\n",
    "\n",
    "    if save==True:\n",
    "        plt.savefig(f'SUM_{plot_type}{figname_optional}_{exposure_time_ms}ms_{image_width}x{image_length}.png')\n",
    "    plt.show()\n",
    "\n",
    "\n",
    "\n",
    "    end_time = time.time()\n",
    "    if debugging==True:\n",
    "        print(f'Plotting time: {end_time - start_time:.1f} seconds')"
   ]
  },
  {
   "cell_type": "markdown",
   "id": "9fcadb9b",
   "metadata": {},
   "source": [
    "#### Testing"
   ]
  },
  {
   "cell_type": "code",
   "execution_count": 6,
   "id": "61b5d44b",
   "metadata": {},
   "outputs": [
    {
     "name": "stdout",
     "output_type": "stream",
     "text": [
      "C:\\3.12 qCMOS\\full_200ms_6000shots_cutfrom6247\n",
      "Loaded image_arrays.pkl\n",
      "File reading time: 5.8 seconds. With DEF read_all_images()\n",
      "Loaded sum_image_arrays.pkl\n",
      "SUM calculation time: 0.0 seconds. With DEF get_sum_array_dense()\n",
      "Max element: 31168\n",
      "Min element: 0\n",
      "bins width: 155.84\n",
      "68.2% of pixel Sum counts fall between 0 and 155.84 counts in all 6000 frames\n"
     ]
    },
    {
     "data": {
      "image/png": "[encoded data removed]",
      "text/plain": [
       "<Figure size 1000x600 with 1 Axes>"
      ]
     },
     "metadata": {},
     "output_type": "display_data"
    },
    {
     "name": "stdout",
     "output_type": "stream",
     "text": [
      "Plotting time: 1.3 seconds\n"
     ]
    }
   ],
   "source": [
    "tiff_main_folder = 'C:\\\\3.12 qCMOS'\n",
    "# tiff_path = tiff_main_folder + '\\\\full_1s_6000_shot'\n",
    "# tiff_path = tiff_main_folder + '\\\\full_frame_quick'\n",
    "# tiff_path = tiff_main_folder + '\\\\full_frame'\n",
    "# tiff_path = tiff_main_folder + '\\\\full_200ms_6247shots'\n",
    "# tiff_path = tiff_main_folder + '\\\\full_5s_2000shots'\n",
    "# tiff_path = tiff_main_folder + '\\\\full_5s_6000shots'\n",
    "tiff_path = tiff_main_folder + '\\\\full_200ms_6000shots_cutfrom6247'\n",
    "# tiff_path = tiff_main_folder + '\\\\full_200ms_2000shots_cutfrom6247'\n",
    "\n",
    "\n",
    "SUM_array = get_sum_array_dense(tiff_path, debugging=True)\n",
    "print('Max element:', SUM_array.max())\n",
    "print('Min element:', SUM_array.min())\n",
    "\n",
    "# plot_SUM(SUM_array, tiff_path, plot_type='heat', save=True, heatmap_max=240)\n",
    "plot_SUM(SUM_array, tiff_path, plot_type='bar', save=True, heatmap_max=240)"
   ]
  }
 ],
 "metadata": {
  "jupytext": {
   "cell_metadata_filter": "-all",
   "encoding": "# -*- coding: utf-8 -*-",
   "main_language": "python",
   "notebook_metadata_filter": "-all"
  },
  "kernelspec": {
   "display_name": "sci",
   "language": "python",
   "name": "python3"
  },
  "language_info": {
   "codemirror_mode": {
    "name": "ipython",
    "version": 3
   },
   "file_extension": ".py",
   "mimetype": "text/x-python",
   "name": "python",
   "nbconvert_exporter": "python",
   "pygments_lexer": "ipython3",
   "version": "3.10.13"
  }
 },
 "nbformat": 4,
 "nbformat_minor": 5
}
