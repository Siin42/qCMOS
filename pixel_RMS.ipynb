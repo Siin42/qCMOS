{
 "cells": [
  {
   "cell_type": "code",
   "execution_count": 1,
   "metadata": {},
   "outputs": [],
   "source": [
    "import numpy as np\n",
    "import os\n",
    "import pickle\n",
    "import time\n",
    "import matplotlib.pyplot as plt\n",
    "\n",
    "# from utils import get_def_name, get_tags_from_first_tiff, get_tiff_list, timer_decorator\n",
    "from utils import *\n",
    "from multi_threading import read_all_images, parallel_exponentiate_RMS, parallel_sum"
   ]
  },
  {
   "cell_type": "markdown",
   "metadata": {},
   "source": [
    "### Functions"
   ]
  },
  {
   "cell_type": "markdown",
   "metadata": {},
   "source": [
    "RMS_image_array_csr.pkl 108MB\n",
    "\n",
    "RMS_image_array.pkl 72MB"
   ]
  },
  {
   "cell_type": "code",
   "execution_count": 2,
   "metadata": {},
   "outputs": [],
   "source": [
    "\"\"\"\n",
    "Hello world\n",
    "\"\"\"\n",
    "\n",
    "# Mirror of sum_array_dense()\n",
    "# Should create a dense sparse matrix output\n",
    "@timer_decorator\n",
    "def get_RMS_array_dense(tiff_path, **kwargs):\n",
    "    debugging = kwargs.get('debugging', False)\n",
    "    pickle_usage = kwargs.get('pickle_usage', True)\n",
    "    \n",
    "    image_arrays = read_all_images(tiff_path, **kwargs)\n",
    "    if debugging==True and pickle_usage==False:\n",
    "        print('NOT USING PICKLE')\n",
    "\n",
    "    if os.path.exists(f'{tiff_path}\\\\RMS_image_array.pkl') and pickle_usage==True:\n",
    "        with open(f'{tiff_path}\\\\RMS_image_array.pkl', 'rb') as f:\n",
    "            # RMS_array_csr = pickle.load(f)\n",
    "            RMS_array = pickle.load(f)\n",
    "        print('Loaded RMS_image_array.pkl')\n",
    "\n",
    "        # # if RMS_array is csr sparse, convert it to dense\n",
    "        # if issparse(RMS_array):\n",
    "        #     RMS_array = RMS_array.toarray()\n",
    "        #     with open(f'{tiff_path}\\\\RMS_image_array.pkl', 'wb') as f:\n",
    "        #         pickle.dump(RMS_array, f)\n",
    "    \n",
    "    else:\n",
    "\n",
    "        squaring_start_time = time.time()\n",
    "        # square = [img.power(2) for img in image_arrays]\n",
    "        square = parallel_exponentiate_RMS(image_arrays, 2)\n",
    "\n",
    "        squaring_end_time = time.time()\n",
    "        if debugging==True:\n",
    "            print(f'Squaring time: {squaring_end_time - squaring_start_time:.1f} seconds. With {get_def_name()}')\n",
    "\n",
    "\n",
    "        adding_start_time = time.time()\n",
    "        # RMS_array_csr = (reduce(add, square) / len(square)).power(0.5)\n",
    "        RMS_array_csr = (parallel_sum(square) / len(square)).power(0.5)\n",
    "\n",
    "        adding_end_time = time.time()\n",
    "        if debugging==True:\n",
    "            print(f'Adding time: {adding_end_time - adding_start_time:.1f} seconds. With {get_def_name()}')\n",
    "\n",
    "\n",
    "        if debugging==True:\n",
    "            # print(f'Total RMS_array elements: {RMS_array_csr.size}')    # 开什么玩笑，要吐了！应该直接取Image Dimension!\n",
    "            _, image_width, image_length = get_tags_from_first_tiff(tiff_path)[:3]\n",
    "            total_pixel_amount = image_width * image_length\n",
    "            print(f'Total RMS_array elements: {total_pixel_amount}')\n",
    "            print(f'Non-zero RMS_array elements: {RMS_array_csr.nnz}')\n",
    "            print(f'Zero RMS_array elements: {total_pixel_amount - RMS_array_csr.nnz}')\n",
    "\n",
    "\n",
    "        RMS_array = RMS_array_csr.toarray()\n",
    "        if pickle_usage==True:\n",
    "            with open(f'{tiff_path}\\\\RMS_image_array.pkl', 'wb') as f:\n",
    "                pickle.dump(RMS_array, f)\n",
    "\n",
    "            # with open(f'{tiff_path}\\\\RMS_image_array_csr.pkl', 'wb') as f:\n",
    "            #     pickle.dump(RMS_array_csr, f)\n",
    "\n",
    "    return RMS_array\n",
    "\n",
    "def get_camera_RMS(RMS_array):\n",
    "    \"\"\"\n",
    "    RMS_array is an array of pixel RMSs\n",
    "    Calculating RMS of RMS_array is the same as calculating RMS for img_arrays\n",
    "    \"\"\"\n",
    "    return np.sqrt(np.mean(RMS_array**2))\n"
   ]
  },
  {
   "cell_type": "markdown",
   "metadata": {},
   "source": [
    "### plot RMS"
   ]
  },
  {
   "cell_type": "code",
   "execution_count": 3,
   "metadata": {},
   "outputs": [],
   "source": [
    "@timer_decorator\n",
    "def plot_RMS(RMS_array, tiff_path, **kwargs):\n",
    "    plot_type = kwargs.get('plot_type', 'bar')\n",
    "    debugging = kwargs.get('debugging', True)\n",
    "    bin_amount = kwargs.get('bin_amount', 100)\n",
    "    heatmap_max = kwargs.get('heatmap_max')\n",
    "    save = kwargs.get('save', False)\n",
    "\n",
    "    tiff_filenames = get_tiff_list(tiff_path)\n",
    "\n",
    "    # RMS_array = RMS_array_csr.toarray()\n",
    "\n",
    "    # caption_tags, image_width, image_length = get_tags_from_first_tiff(tiff_path)\n",
    "    caption_tags, image_width, image_length, exposure_time_ms = get_tags_from_first_tiff(tiff_path)[:4]\n",
    "    total_pixel_amount = image_width * image_length\n",
    "\n",
    "    caption_statistics_RMS = f'{np.sum(RMS_array==0)} pixels had 0 count in the whole set of data, {np.sum(RMS_array==0) / total_pixel_amount * 100:.1f}%; \\n' + \\\n",
    "            f'RMS(10% of the pixels) <= {np.percentile(RMS_array, 10):.3f}; \\n' + \\\n",
    "            f'RMS(90% of the pixels) <= {np.percentile(RMS_array, 90):.3f}; \\n' + \\\n",
    "            f'pixel max-RMS: {np.max(RMS_array):.3f} e- \\n' + \\\n",
    "            f'Camera RMS: {get_camera_RMS(RMS_array):.3f} e-'\n",
    "    figname_optional = ''\n",
    "\n",
    "\n",
    "    if plot_type == 'bar':\n",
    "        # It was cutting right tail of the histogram. Name a max for it\n",
    "        # counts, bin_edges = np.histogram(RMS_array.flatten(), bins=bin_amount)\n",
    "        min_value = 0\n",
    "        max_value = np.max(RMS_array)\n",
    "        counts, bin_edges = np.histogram(RMS_array.flatten(), bins=bin_amount, range=(min_value, max_value))\n",
    "\n",
    "        if debugging==True:\n",
    "            # print(f'bin amount: {bin_amount}')\n",
    "            print(f'bins width: {np.average(np.diff(bin_edges))}')\n",
    "            max_fraction_bin = np.max(counts) / np.sum(counts)\n",
    "            print(f'{100*max_fraction_bin:.1f}% of pixel RMS errors fall between '\n",
    "                f'{np.argmax(counts)} and {np.argmax(counts) + np.diff(bin_edges)[0]} counts in all {len(tiff_filenames)} frames')\n",
    "\n",
    "        # counts_normalized = counts / counts.max()\n",
    "\n",
    "        fig = plt.figure(figsize=(10, 6))\n",
    "        # plt.bar(bin_edges[:-1], counts_normalized, width=np.diff(bin_edges), color='gray', log=True, align='edge')\n",
    "        plt.bar(bin_edges[:-1], counts, width=np.diff(bin_edges), color='gray', log=True, align='edge')\n",
    "\n",
    "        plt.xlabel('RMS')\n",
    "        plt.ylabel('Frequency')\n",
    "\n",
    "        figname_optional += f'_{len(tiff_filenames)}frames'\n",
    "        \n",
    "        fig.text(0.15, 0.05, caption_tags + caption_statistics_RMS, ha='left')\n",
    "        plt.subplots_adjust(bottom=0.3)\n",
    "\n",
    "    elif plot_type == 'heat':\n",
    "        heat_plot_width = np.round(image_width/image_length * 6, 1) + 2\n",
    "        fig = plt.figure(figsize=(heat_plot_width, 6), dpi=400)\n",
    "        \n",
    "        plt.imshow(RMS_array, cmap='hot', interpolation='nearest', vmax=heatmap_max)\n",
    "        plt.colorbar(label='RMS')\n",
    "        if heatmap_max is not None:\n",
    "            caption_tags += f'Clipped at {heatmap_max} counts\\n'\n",
    "            figname_optional += f'_clip{heatmap_max}'\n",
    "\n",
    "        figname_optional += f'_{len(tiff_filenames)}frames'\n",
    "\n",
    "        fig.text(0.15, 0.05, caption_tags + caption_statistics_RMS, ha='left')\n",
    "        plt.subplots_adjust(bottom=0.25)\n",
    "\n",
    "\n",
    "    if save==True:\n",
    "        plt.savefig(f'RMS_{plot_type}{figname_optional}_{exposure_time_ms}ms_{image_width}x{image_length}.png')\n",
    "    plt.show()"
   ]
  },
  {
   "cell_type": "markdown",
   "metadata": {},
   "source": [
    "### Testing"
   ]
  },
  {
   "cell_type": "markdown",
   "metadata": {},
   "source": [
    "NOT USING PICKLE\n",
    "\n",
    "File reading time: 784.8 seconds. With DEF read_all_images_RMS()\n",
    "\n",
    "\n",
    "##### Square multi-processed \\\\full_1s_6000_shot\n",
    "\n",
    "Squaring time: 60.8 seconds. With DEF get_RMS_array_dense()\n",
    "\n",
    "Adding time: 179.4 seconds. With DEF get_RMS_array_dense()\n",
    "\n",
    "##### Square & Adding \\\\full_1s_6000_shot\n",
    "\n",
    "Squaring time: 71.9 seconds. With DEF get_RMS_array_dense()\n",
    "\n",
    "Adding time: 124.0 seconds. With DEF get_RMS_array_dense()"
   ]
  },
  {
   "cell_type": "code",
   "execution_count": 4,
   "metadata": {},
   "outputs": [
    {
     "name": "stdout",
     "output_type": "stream",
     "text": [
      "C:\\LABDATA_office\\3.12 qCMOS\\full_200ms_6000shots_cutfrom6247\n",
      "Loaded image_arrays.pkl\n",
      "Function read_all_images took 5.6 seconds to run.\n",
      "Loaded RMS_image_array.pkl\n",
      "Function get_RMS_array_dense took 6.3 seconds to run.\n",
      "bins width: 0.033016662460036754\n",
      "21.3% of pixel RMS errors fall between 1 and 1.0330166624600368 counts in all 6000 frames\n"
     ]
    },
    {
     "data": {
      "image/png": "[encoded data removed]",
      "text/plain": [
       "<Figure size 1000x600 with 1 Axes>"
      ]
     },
     "metadata": {},
     "output_type": "display_data"
    },
    {
     "name": "stdout",
     "output_type": "stream",
     "text": [
      "Function plot_RMS took 1.3 seconds to run.\n"
     ]
    }
   ],
   "source": [
    "tiff_main_folder = 'C:\\\\LABDATA_office\\\\3.12 qCMOS'\n",
    "# tiff_path = tiff_main_folder + '\\\\full_1s_6000_shot'\n",
    "# tiff_path = tiff_main_folder + '\\\\full_frame_quick'\n",
    "# tiff_path = tiff_main_folder + '\\\\full_frame'\n",
    "# tiff_path = tiff_main_folder + '\\\\full_200ms_6247shots'\n",
    "tiff_path = tiff_main_folder + '\\\\full_200ms_6000shots_cutfrom6247'\n",
    "# tiff_path = tiff_main_folder + '\\\\full_5s_2000shots'\n",
    "# tiff_path = tiff_main_folder + '\\\\full_5s_6000shots'\n",
    "\n",
    "\n",
    "RMS_array = get_RMS_array_dense(tiff_path, tiff_amount_cutoff=6000, debugging=True)\n",
    "# print('Max element:', RMS_array.max())\n",
    "# print('Min element:', RMS_array.min())\n",
    "# print('Min non-zero element:', RMS_array[RMS_array > 0].min())\n",
    "\n",
    "# print(f'issparse(RMS_array)? {issparse(RMS_array)}')\n",
    "# plot_RMS(RMS_array, tiff_path, plot_type='heat', save=True)\n",
    "plot_RMS(RMS_array, tiff_path, plot_type='bar', save=True)"
   ]
  },
  {
   "cell_type": "code",
   "execution_count": 5,
   "metadata": {},
   "outputs": [],
   "source": [
    "# tiff_path = tiff_main_folder + '\\\\full_200ms_6000shots_cutfrom6247'\n",
    "# RMS_array_200ms = get_RMS_array_dense(tiff_path, tiff_amount_cutoff=6000, debugging=True)\n",
    "# cameraRMS_200ms = get_camera_RMS(RMS_array_200ms)\n",
    "\n",
    "# tiff_path = tiff_main_folder + '\\\\full_5s_6000shots'\n",
    "# RMS_array_5000ms = get_RMS_array_dense(tiff_path, tiff_amount_cutoff=6000, debugging=True)\n",
    "# cameraRMS_5000ms = get_camera_RMS(RMS_array_5000ms)"
   ]
  },
  {
   "cell_type": "code",
   "execution_count": 6,
   "metadata": {},
   "outputs": [],
   "source": [
    "# # print(f'cameraRMS_200ms:{cameraRMS_200ms} e-')\n",
    "# # print(f'cameraRMS_5000ms:{cameraRMS_5000ms} e-')\n",
    "# dark_current = (cameraRMS_5000ms - cameraRMS_200ms) / 4.8\n",
    "# print(f'Dark current:{dark_current} e-/(pixel*s)')"
   ]
  }
 ],
 "metadata": {
  "kernelspec": {
   "display_name": "Python 3 (ipykernel)",
   "language": "python",
   "name": "python3"
  },
  "language_info": {
   "codemirror_mode": {
    "name": "ipython",
    "version": 3
   },
   "file_extension": ".py",
   "mimetype": "text/x-python",
   "name": "python",
   "nbconvert_exporter": "python",
   "pygments_lexer": "ipython3",
   "version": "3.10.13"
  }
 },
 "nbformat": 4,
 "nbformat_minor": 2
}
